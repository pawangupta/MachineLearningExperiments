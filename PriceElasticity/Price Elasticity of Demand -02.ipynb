{
  "nbformat": 4,
  "nbformat_minor": 0,
  "metadata": {
    "kernelspec": {
      "display_name": "Python 3",
      "language": "python",
      "name": "python3"
    },
    "language_info": {
      "codemirror_mode": {
        "name": "ipython",
        "version": 3
      },
      "file_extension": ".py",
      "mimetype": "text/x-python",
      "name": "python",
      "nbconvert_exporter": "python",
      "pygments_lexer": "ipython3",
      "version": "3.7.6"
    },
    "colab": {
      "name": "Price Elasticity of Demand -02.ipynb",
      "provenance": [],
      "include_colab_link": true
    }
  },
  "cells": [
    {
      "cell_type": "markdown",
      "metadata": {
        "id": "view-in-github",
        "colab_type": "text"
      },
      "source": [
        "<a href=\"https://colab.research.google.com/github/pawangupta/MachineLearningExperiments/blob/main/PriceElasticity/Price%20Elasticity%20of%20Demand%20-02.ipynb\" target=\"_parent\"><img src=\"https://colab.research.google.com/assets/colab-badge.svg\" alt=\"Open In Colab\"/></a>"
      ]
    },
    {
      "cell_type": "code",
      "metadata": {
        "id": "JvYU4lODN3br"
      },
      "source": [
        "%matplotlib inline\n",
        "\n",
        "#from __future__ import print_function\n",
        "from statsmodels.compat import lzip\n",
        "import numpy as np\n",
        "import pandas as pd\n",
        "import matplotlib.pyplot as plt\n",
        "import statsmodels.api as sm\n",
        "from statsmodels.formula.api import ols\n",
        "\n",
        "import os"
      ],
      "execution_count": 2,
      "outputs": []
    },
    {
      "cell_type": "code",
      "metadata": {
        "id": "-bA-B0KZN3bx",
        "outputId": "a7f6bbc6-89dc-4c0c-f513-e69d5979042a"
      },
      "source": [
        "'''\n",
        "path=os.getcwd()\n",
        "print(path)\n",
        "\n",
        "read_path = \"/Users/pawankumar.gupta/Google Drive/Tech/ML/Code/PriceElasticity/Data\"\n",
        "\n",
        "read_file = read_path + '/item.csv'\n",
        "\n",
        "Gitbub : PriceElasticity/Data/item.csv\n",
        "PriceElasticity/Data/item.csv\n",
        "https://raw.githubusercontent.com/pawangupta/MachineLearningExperiments/main/PriceElasticity/Data/item.csv\n",
        "\n",
        "'''\n"
      ],
      "execution_count": null,
      "outputs": [
        {
          "output_type": "stream",
          "text": [
            "/Users/pawankumar.gupta/Google Drive/Tech/ML/Code/PriceElasticity/notebooks\n"
          ],
          "name": "stdout"
        }
      ]
    },
    {
      "cell_type": "code",
      "metadata": {
        "id": "v8dkZumLOW5E"
      },
      "source": [
        "url = 'https://raw.githubusercontent.com/pawangupta/MachineLearningExperiments/main/PriceElasticity/Data/item.csv'\n",
        "item = pd.read_csv(url)\n",
        "\n"
      ],
      "execution_count": 3,
      "outputs": []
    },
    {
      "cell_type": "code",
      "metadata": {
        "id": "XUvctM0FN3bz"
      },
      "source": [
        "#item = pd.read_csv(read_file)"
      ],
      "execution_count": null,
      "outputs": []
    },
    {
      "cell_type": "code",
      "metadata": {
        "id": "Kyo5WbHSObSe"
      },
      "source": [
        ""
      ],
      "execution_count": null,
      "outputs": []
    },
    {
      "cell_type": "code",
      "metadata": {
        "id": "4HpcHUEKN3bz",
        "outputId": "66b1e2b2-c570-4a14-91ca-921b160fa7d8",
        "colab": {
          "base_uri": "https://localhost:8080/",
          "height": 359
        }
      },
      "source": [
        "item.head(10)"
      ],
      "execution_count": 5,
      "outputs": [
        {
          "output_type": "execute_result",
          "data": {
            "text/html": [
              "<div>\n",
              "<style scoped>\n",
              "    .dataframe tbody tr th:only-of-type {\n",
              "        vertical-align: middle;\n",
              "    }\n",
              "\n",
              "    .dataframe tbody tr th {\n",
              "        vertical-align: top;\n",
              "    }\n",
              "\n",
              "    .dataframe thead th {\n",
              "        text-align: right;\n",
              "    }\n",
              "</style>\n",
              "<table border=\"1\" class=\"dataframe\">\n",
              "  <thead>\n",
              "    <tr style=\"text-align: right;\">\n",
              "      <th></th>\n",
              "      <th>Year</th>\n",
              "      <th>Quarter</th>\n",
              "      <th>Quantity</th>\n",
              "      <th>Price</th>\n",
              "    </tr>\n",
              "  </thead>\n",
              "  <tbody>\n",
              "    <tr>\n",
              "      <th>0</th>\n",
              "      <td>1977</td>\n",
              "      <td>1</td>\n",
              "      <td>22.9976</td>\n",
              "      <td>142.1667</td>\n",
              "    </tr>\n",
              "    <tr>\n",
              "      <th>1</th>\n",
              "      <td>1977</td>\n",
              "      <td>2</td>\n",
              "      <td>22.6131</td>\n",
              "      <td>143.9333</td>\n",
              "    </tr>\n",
              "    <tr>\n",
              "      <th>2</th>\n",
              "      <td>1977</td>\n",
              "      <td>3</td>\n",
              "      <td>23.4054</td>\n",
              "      <td>146.5000</td>\n",
              "    </tr>\n",
              "    <tr>\n",
              "      <th>3</th>\n",
              "      <td>1977</td>\n",
              "      <td>4</td>\n",
              "      <td>22.7401</td>\n",
              "      <td>150.8000</td>\n",
              "    </tr>\n",
              "    <tr>\n",
              "      <th>4</th>\n",
              "      <td>1978</td>\n",
              "      <td>1</td>\n",
              "      <td>22.0441</td>\n",
              "      <td>160.0000</td>\n",
              "    </tr>\n",
              "    <tr>\n",
              "      <th>5</th>\n",
              "      <td>1978</td>\n",
              "      <td>2</td>\n",
              "      <td>21.7602</td>\n",
              "      <td>182.5333</td>\n",
              "    </tr>\n",
              "    <tr>\n",
              "      <th>6</th>\n",
              "      <td>1978</td>\n",
              "      <td>3</td>\n",
              "      <td>21.6064</td>\n",
              "      <td>186.2000</td>\n",
              "    </tr>\n",
              "    <tr>\n",
              "      <th>7</th>\n",
              "      <td>1978</td>\n",
              "      <td>4</td>\n",
              "      <td>21.8814</td>\n",
              "      <td>186.4333</td>\n",
              "    </tr>\n",
              "    <tr>\n",
              "      <th>8</th>\n",
              "      <td>1979</td>\n",
              "      <td>1</td>\n",
              "      <td>20.5086</td>\n",
              "      <td>211.7000</td>\n",
              "    </tr>\n",
              "    <tr>\n",
              "      <th>9</th>\n",
              "      <td>1979</td>\n",
              "      <td>2</td>\n",
              "      <td>19.0408</td>\n",
              "      <td>231.5000</td>\n",
              "    </tr>\n",
              "  </tbody>\n",
              "</table>\n",
              "</div>"
            ],
            "text/plain": [
              "   Year  Quarter  Quantity     Price\n",
              "0  1977        1   22.9976  142.1667\n",
              "1  1977        2   22.6131  143.9333\n",
              "2  1977        3   23.4054  146.5000\n",
              "3  1977        4   22.7401  150.8000\n",
              "4  1978        1   22.0441  160.0000\n",
              "5  1978        2   21.7602  182.5333\n",
              "6  1978        3   21.6064  186.2000\n",
              "7  1978        4   21.8814  186.4333\n",
              "8  1979        1   20.5086  211.7000\n",
              "9  1979        2   19.0408  231.5000"
            ]
          },
          "metadata": {
            "tags": []
          },
          "execution_count": 5
        }
      ]
    },
    {
      "cell_type": "code",
      "metadata": {
        "id": "IRIU9uiLN3b0",
        "outputId": "3cdea21c-f64d-45eb-f572-dcd57bfb6db1",
        "colab": {
          "base_uri": "https://localhost:8080/"
        }
      },
      "source": [
        "item.isnull().sum()"
      ],
      "execution_count": 6,
      "outputs": [
        {
          "output_type": "execute_result",
          "data": {
            "text/plain": [
              "Year        0\n",
              "Quarter     0\n",
              "Quantity    0\n",
              "Price       0\n",
              "dtype: int64"
            ]
          },
          "metadata": {
            "tags": []
          },
          "execution_count": 6
        }
      ]
    },
    {
      "cell_type": "markdown",
      "metadata": {
        "id": "rGFm7zgkN3b0"
      },
      "source": [
        "## Regression Analysis\n",
        "\n",
        "### Ordinary Least Squares (OLS) Estimation"
      ]
    },
    {
      "cell_type": "code",
      "metadata": {
        "id": "1i2_RhLfN3b1",
        "outputId": "869148df-900f-4c29-bb10-b30aceb72368",
        "colab": {
          "base_uri": "https://localhost:8080/",
          "height": 419
        }
      },
      "source": [
        "item"
      ],
      "execution_count": 7,
      "outputs": [
        {
          "output_type": "execute_result",
          "data": {
            "text/html": [
              "<div>\n",
              "<style scoped>\n",
              "    .dataframe tbody tr th:only-of-type {\n",
              "        vertical-align: middle;\n",
              "    }\n",
              "\n",
              "    .dataframe tbody tr th {\n",
              "        vertical-align: top;\n",
              "    }\n",
              "\n",
              "    .dataframe thead th {\n",
              "        text-align: right;\n",
              "    }\n",
              "</style>\n",
              "<table border=\"1\" class=\"dataframe\">\n",
              "  <thead>\n",
              "    <tr style=\"text-align: right;\">\n",
              "      <th></th>\n",
              "      <th>Year</th>\n",
              "      <th>Quarter</th>\n",
              "      <th>Quantity</th>\n",
              "      <th>Price</th>\n",
              "    </tr>\n",
              "  </thead>\n",
              "  <tbody>\n",
              "    <tr>\n",
              "      <th>0</th>\n",
              "      <td>1977</td>\n",
              "      <td>1</td>\n",
              "      <td>22.9976</td>\n",
              "      <td>142.1667</td>\n",
              "    </tr>\n",
              "    <tr>\n",
              "      <th>1</th>\n",
              "      <td>1977</td>\n",
              "      <td>2</td>\n",
              "      <td>22.6131</td>\n",
              "      <td>143.9333</td>\n",
              "    </tr>\n",
              "    <tr>\n",
              "      <th>2</th>\n",
              "      <td>1977</td>\n",
              "      <td>3</td>\n",
              "      <td>23.4054</td>\n",
              "      <td>146.5000</td>\n",
              "    </tr>\n",
              "    <tr>\n",
              "      <th>3</th>\n",
              "      <td>1977</td>\n",
              "      <td>4</td>\n",
              "      <td>22.7401</td>\n",
              "      <td>150.8000</td>\n",
              "    </tr>\n",
              "    <tr>\n",
              "      <th>4</th>\n",
              "      <td>1978</td>\n",
              "      <td>1</td>\n",
              "      <td>22.0441</td>\n",
              "      <td>160.0000</td>\n",
              "    </tr>\n",
              "    <tr>\n",
              "      <th>...</th>\n",
              "      <td>...</td>\n",
              "      <td>...</td>\n",
              "      <td>...</td>\n",
              "      <td>...</td>\n",
              "    </tr>\n",
              "    <tr>\n",
              "      <th>86</th>\n",
              "      <td>1998</td>\n",
              "      <td>3</td>\n",
              "      <td>17.5085</td>\n",
              "      <td>277.3667</td>\n",
              "    </tr>\n",
              "    <tr>\n",
              "      <th>87</th>\n",
              "      <td>1998</td>\n",
              "      <td>4</td>\n",
              "      <td>16.6475</td>\n",
              "      <td>279.5333</td>\n",
              "    </tr>\n",
              "    <tr>\n",
              "      <th>88</th>\n",
              "      <td>1999</td>\n",
              "      <td>1</td>\n",
              "      <td>16.6785</td>\n",
              "      <td>278.0000</td>\n",
              "    </tr>\n",
              "    <tr>\n",
              "      <th>89</th>\n",
              "      <td>1999</td>\n",
              "      <td>2</td>\n",
              "      <td>17.7635</td>\n",
              "      <td>284.7667</td>\n",
              "    </tr>\n",
              "    <tr>\n",
              "      <th>90</th>\n",
              "      <td>1999</td>\n",
              "      <td>3</td>\n",
              "      <td>17.6689</td>\n",
              "      <td>289.2333</td>\n",
              "    </tr>\n",
              "  </tbody>\n",
              "</table>\n",
              "<p>91 rows × 4 columns</p>\n",
              "</div>"
            ],
            "text/plain": [
              "    Year  Quarter  Quantity     Price\n",
              "0   1977        1   22.9976  142.1667\n",
              "1   1977        2   22.6131  143.9333\n",
              "2   1977        3   23.4054  146.5000\n",
              "3   1977        4   22.7401  150.8000\n",
              "4   1978        1   22.0441  160.0000\n",
              "..   ...      ...       ...       ...\n",
              "86  1998        3   17.5085  277.3667\n",
              "87  1998        4   16.6475  279.5333\n",
              "88  1999        1   16.6785  278.0000\n",
              "89  1999        2   17.7635  284.7667\n",
              "90  1999        3   17.6689  289.2333\n",
              "\n",
              "[91 rows x 4 columns]"
            ]
          },
          "metadata": {
            "tags": []
          },
          "execution_count": 7
        }
      ]
    },
    {
      "cell_type": "code",
      "metadata": {
        "id": "rwT60iNDN3b1",
        "outputId": "8b72ecb5-b2e1-4a55-8ce0-b0470dba7156",
        "colab": {
          "base_uri": "https://localhost:8080/"
        }
      },
      "source": [
        "item['Price'].value_counts(ascending=True)"
      ],
      "execution_count": 8,
      "outputs": [
        {
          "output_type": "execute_result",
          "data": {
            "text/plain": [
              "146.5000    1\n",
              "285.1000    1\n",
              "238.1667    1\n",
              "222.7000    1\n",
              "211.7000    1\n",
              "           ..\n",
              "186.4333    1\n",
              "234.9000    1\n",
              "285.2667    1\n",
              "286.6667    2\n",
              "289.2333    2\n",
              "Name: Price, Length: 89, dtype: int64"
            ]
          },
          "metadata": {
            "tags": []
          },
          "execution_count": 8
        }
      ]
    },
    {
      "cell_type": "code",
      "metadata": {
        "id": "vL2Q_4diN3b2"
      },
      "source": [
        "item_model = ols('item.Quantity ~ item.Price', item).fit()"
      ],
      "execution_count": 9,
      "outputs": []
    },
    {
      "cell_type": "code",
      "metadata": {
        "id": "vL4-v-GPN3b2"
      },
      "source": [
        "#same data \n",
        "example_df =  pd.DataFrame(item.Price.values)\n",
        "example_df.columns = [\"tstPrice\"]\n",
        "\n",
        "#random data \n",
        "#example_df = pd.DataFrame(np.random.uniform(low=146.5, high=289.2333, size=(91,1)))\n",
        "#example_df.columns = [\"tstPrice\"]\n",
        "#example_df\n",
        "\n"
      ],
      "execution_count": 10,
      "outputs": []
    },
    {
      "cell_type": "code",
      "metadata": {
        "id": "l9dopiw6N3b2",
        "outputId": "a84db1b5-5263-49af-83ba-ae5a9ea47daa",
        "colab": {
          "base_uri": "https://localhost:8080/"
        }
      },
      "source": [
        "#beef_model.predict(sm.add_constant(example_df[\"tstQty\"].values), transform=False)\n",
        "\n",
        "ynewpred = item_model.predict({\"Price\": example_df[\"tstPrice\"]})\n",
        "\n",
        "print(ynewpred)"
      ],
      "execution_count": 11,
      "outputs": [
        {
          "output_type": "stream",
          "text": [
            "0     23.439200\n",
            "1     23.357034\n",
            "2     23.237654\n",
            "3     23.037658\n",
            "4     22.609759\n",
            "        ...    \n",
            "86    17.150940\n",
            "87    17.050170\n",
            "88    17.121485\n",
            "89    16.806760\n",
            "90    16.599015\n",
            "Length: 91, dtype: float64\n"
          ],
          "name": "stdout"
        }
      ]
    },
    {
      "cell_type": "code",
      "metadata": {
        "id": "7J_lM80dN3b3"
      },
      "source": [
        "\n",
        "x1 = item.Price.values\n",
        "y = item.Quantity.values\n",
        "y_true = item.Quantity.values\n",
        "\n",
        "x1n = example_df.tstPrice.values\n",
        "ypred  = ynewpred \n",
        "\n",
        "\n",
        "#x1 = example_df.tstPrice.values"
      ],
      "execution_count": 12,
      "outputs": []
    },
    {
      "cell_type": "code",
      "metadata": {
        "id": "Gd9sK6CvN3b3",
        "outputId": "185d80d1-081a-4a69-a388-838b1ef74e86",
        "colab": {
          "base_uri": "https://localhost:8080/",
          "height": 404
        }
      },
      "source": [
        "# Plot regression against actual data\n",
        "plt.figure(figsize=(12, 6))\n",
        "plt.plot(x1, ypred)     # regression line\n",
        "plt.plot(x1, y, 'ro')   # scatter plot showing actual data\n",
        "plt.title('Actual vs Predicted')\n",
        "plt.xlabel('X')\n",
        "plt.ylabel('y')\n",
        "\n",
        "plt.show()"
      ],
      "execution_count": 13,
      "outputs": [
        {
          "output_type": "display_data",
          "data": {
            "image/png": "[encoded data removed]",
            "text/plain": [
              "<Figure size 864x432 with 1 Axes>"
            ]
          },
          "metadata": {
            "tags": [],
            "needs_background": "light"
          }
        }
      ]
    },
    {
      "cell_type": "code",
      "metadata": {
        "id": "cH1YVRQnN3b4",
        "outputId": "209c6da2-7ca9-480c-dd8a-43d6f9d04f70",
        "colab": {
          "base_uri": "https://localhost:8080/",
          "height": 265
        }
      },
      "source": [
        "import matplotlib.pyplot as plt\n",
        "\n",
        "fig, ax = plt.subplots()\n",
        "ax.plot(x1, y, 'o', label=\"Data\")\n",
        "ax.plot(x1, y_true, 'b-', label=\"True\")\n",
        "ax.plot(np.hstack((x1, x1n)), np.hstack((ypred, ynewpred)), 'r', label=\"OLS prediction\")\n",
        "ax.legend(loc=\"best\");"
      ],
      "execution_count": 14,
      "outputs": [
        {
          "output_type": "display_data",
          "data": {
            "image/png": "[encoded data removed]",
            "text/plain": [
              "<Figure size 432x288 with 1 Axes>"
            ]
          },
          "metadata": {
            "tags": [],
            "needs_background": "light"
          }
        }
      ]
    },
    {
      "cell_type": "code",
      "metadata": {
        "id": "yVFda4UvN3b4",
        "outputId": "7faff924-3237-4364-db21-ee2ed091f48a",
        "colab": {
          "base_uri": "https://localhost:8080/"
        }
      },
      "source": [
        "print(item_model.summary())"
      ],
      "execution_count": 15,
      "outputs": [
        {
          "output_type": "stream",
          "text": [
            "                            OLS Regression Results                            \n",
            "==============================================================================\n",
            "Dep. Variable:          item.Quantity   R-squared:                       0.901\n",
            "Model:                            OLS   Adj. R-squared:                  0.900\n",
            "Method:                 Least Squares   F-statistic:                     811.2\n",
            "Date:                Mon, 05 Apr 2021   Prob (F-statistic):           1.69e-46\n",
            "Time:                        08:55:59   Log-Likelihood:                -77.493\n",
            "No. Observations:                  91   AIC:                             159.0\n",
            "Df Residuals:                      89   BIC:                             164.0\n",
            "Df Model:                           1                                         \n",
            "Covariance Type:            nonrobust                                         \n",
            "==============================================================================\n",
            "                 coef    std err          t      P>|t|      [0.025      0.975]\n",
            "------------------------------------------------------------------------------\n",
            "Intercept     30.0515      0.413     72.701      0.000      29.230      30.873\n",
            "item.Price    -0.0465      0.002    -28.482      0.000      -0.050      -0.043\n",
            "==============================================================================\n",
            "Omnibus:                        3.453   Durbin-Watson:                   1.533\n",
            "Prob(Omnibus):                  0.178   Jarque-Bera (JB):                2.460\n",
            "Skew:                           0.237   Prob(JB):                        0.292\n",
            "Kurtosis:                       2.349   Cond. No.                     1.74e+03\n",
            "==============================================================================\n",
            "\n",
            "Warnings:\n",
            "[1] Standard Errors assume that the covariance matrix of the errors is correctly specified.\n",
            "[2] The condition number is large, 1.74e+03. This might indicate that there are\n",
            "strong multicollinearity or other numerical problems.\n"
          ],
          "name": "stdout"
        }
      ]
    },
    {
      "cell_type": "markdown",
      "metadata": {
        "id": "igN5zBB3N3b4"
      },
      "source": [
        "The small P values indicate that we can reject the null hypothesis that Price has no effect on Quantity.\n",
        "\n",
        "Hight r squared indicates that our model explains a lot of the response variability.\n",
        "\n",
        "In regression analysis, we'd like our regression model to have significant variables and to produce a high R-squared value.\n",
        "\n",
        "We will show graphs to help interpret regression analysis results more intuitively."
      ]
    },
    {
      "cell_type": "code",
      "metadata": {
        "id": "b3BmT-k6N3b5",
        "outputId": "645ff89d-4743-41ad-8caa-327d47a81b11"
      },
      "source": [
        "fig = plt.figure(figsize=(12,8))\n",
        "fig = sm.graphics.plot_partregress_grid(item_model, fig=fig)"
      ],
      "execution_count": null,
      "outputs": [
        {
          "output_type": "display_data",
          "data": {
            "image/png": "[encoded data removed]",
            "text/plain": [
              "<Figure size 864x576 with 2 Axes>"
            ]
          },
          "metadata": {
            "tags": [],
            "needs_background": "light"
          }
        }
      ]
    },
    {
      "cell_type": "markdown",
      "metadata": {
        "id": "92ehha98N3b5"
      },
      "source": [
        "The trend indicates that the predictor variables (Price) provides information about the response (Quantity), and data points do not fall further from the regression line, and the predictions are very precise given a prediction interval that extends from about 29 to 31."
      ]
    },
    {
      "cell_type": "markdown",
      "metadata": {
        "id": "o604uTbKN3b5"
      },
      "source": [
        "### Component-Component plus Residual (CCPR) Plots\n",
        "\n",
        "The CCPR plot provides a way to judge the effect of one regressor on the response variable by taking into account the effects of the other independent variables."
      ]
    },
    {
      "cell_type": "code",
      "metadata": {
        "id": "GN977VoRN3b6",
        "outputId": "622dfc9f-f8fe-46b2-a765-5d778044feec"
      },
      "source": [
        "fig = plt.figure(figsize=(12, 8))\n",
        "fig = sm.graphics.plot_ccpr_grid(item_model, fig=fig)"
      ],
      "execution_count": null,
      "outputs": [
        {
          "output_type": "display_data",
          "data": {
            "image/png": "[encoded data removed]",
            "text/plain": [
              "<Figure size 864x576 with 1 Axes>"
            ]
          },
          "metadata": {
            "tags": [],
            "needs_background": "light"
          }
        }
      ]
    },
    {
      "cell_type": "markdown",
      "metadata": {
        "id": "1YCaXIMbN3b6"
      },
      "source": [
        "### Regression plots\n",
        "\n",
        "We use plot_regress_exog function to quickly check model assumptions with respect to a single regressor, Price in our case."
      ]
    },
    {
      "cell_type": "code",
      "metadata": {
        "id": "ZnnOVNSzN3b6",
        "outputId": "308f5b39-c4f1-42a5-c656-221d1c6fb775"
      },
      "source": [
        "fig = plt.figure(figsize=(12,8))\n",
        "fig = sm.graphics.plot_regress_exog(item_model, 'Price', fig=fig)"
      ],
      "execution_count": null,
      "outputs": [
        {
          "output_type": "error",
          "ename": "ValueError",
          "evalue": "'Price' is not in list",
          "traceback": [
            "\u001b[0;31m---------------------------------------------------------------------------\u001b[0m",
            "\u001b[0;31mValueError\u001b[0m                                Traceback (most recent call last)",
            "\u001b[0;32m<ipython-input-16-670a1188d895>\u001b[0m in \u001b[0;36m<module>\u001b[0;34m\u001b[0m\n\u001b[1;32m      1\u001b[0m \u001b[0mfig\u001b[0m \u001b[0;34m=\u001b[0m \u001b[0mplt\u001b[0m\u001b[0;34m.\u001b[0m\u001b[0mfigure\u001b[0m\u001b[0;34m(\u001b[0m\u001b[0mfigsize\u001b[0m\u001b[0;34m=\u001b[0m\u001b[0;34m(\u001b[0m\u001b[0;36m12\u001b[0m\u001b[0;34m,\u001b[0m\u001b[0;36m8\u001b[0m\u001b[0;34m)\u001b[0m\u001b[0;34m)\u001b[0m\u001b[0;34m\u001b[0m\u001b[0;34m\u001b[0m\u001b[0m\n\u001b[0;32m----> 2\u001b[0;31m \u001b[0mfig\u001b[0m \u001b[0;34m=\u001b[0m \u001b[0msm\u001b[0m\u001b[0;34m.\u001b[0m\u001b[0mgraphics\u001b[0m\u001b[0;34m.\u001b[0m\u001b[0mplot_regress_exog\u001b[0m\u001b[0;34m(\u001b[0m\u001b[0mitem_model\u001b[0m\u001b[0;34m,\u001b[0m \u001b[0;34m'Price'\u001b[0m\u001b[0;34m,\u001b[0m \u001b[0mfig\u001b[0m\u001b[0;34m=\u001b[0m\u001b[0mfig\u001b[0m\u001b[0;34m)\u001b[0m\u001b[0;34m\u001b[0m\u001b[0;34m\u001b[0m\u001b[0m\n\u001b[0m",
            "\u001b[0;32m~/Desktop/Anaconda/anaconda3/lib/python3.7/site-packages/statsmodels/graphics/regressionplots.py\u001b[0m in \u001b[0;36mplot_regress_exog\u001b[0;34m(results, exog_idx, fig)\u001b[0m\n\u001b[1;32m    218\u001b[0m     \u001b[0mfig\u001b[0m \u001b[0;34m=\u001b[0m \u001b[0mutils\u001b[0m\u001b[0;34m.\u001b[0m\u001b[0mcreate_mpl_fig\u001b[0m\u001b[0;34m(\u001b[0m\u001b[0mfig\u001b[0m\u001b[0;34m)\u001b[0m\u001b[0;34m\u001b[0m\u001b[0;34m\u001b[0m\u001b[0m\n\u001b[1;32m    219\u001b[0m \u001b[0;34m\u001b[0m\u001b[0m\n\u001b[0;32m--> 220\u001b[0;31m     \u001b[0mexog_name\u001b[0m\u001b[0;34m,\u001b[0m \u001b[0mexog_idx\u001b[0m \u001b[0;34m=\u001b[0m \u001b[0mutils\u001b[0m\u001b[0;34m.\u001b[0m\u001b[0mmaybe_name_or_idx\u001b[0m\u001b[0;34m(\u001b[0m\u001b[0mexog_idx\u001b[0m\u001b[0;34m,\u001b[0m \u001b[0mresults\u001b[0m\u001b[0;34m.\u001b[0m\u001b[0mmodel\u001b[0m\u001b[0;34m)\u001b[0m\u001b[0;34m\u001b[0m\u001b[0;34m\u001b[0m\u001b[0m\n\u001b[0m\u001b[1;32m    221\u001b[0m     \u001b[0mresults\u001b[0m \u001b[0;34m=\u001b[0m \u001b[0mmaybe_unwrap_results\u001b[0m\u001b[0;34m(\u001b[0m\u001b[0mresults\u001b[0m\u001b[0;34m)\u001b[0m\u001b[0;34m\u001b[0m\u001b[0;34m\u001b[0m\u001b[0m\n\u001b[1;32m    222\u001b[0m \u001b[0;34m\u001b[0m\u001b[0m\n",
            "\u001b[0;32m~/Desktop/Anaconda/anaconda3/lib/python3.7/site-packages/statsmodels/graphics/utils.py\u001b[0m in \u001b[0;36mmaybe_name_or_idx\u001b[0;34m(idx, model)\u001b[0m\n\u001b[1;32m    110\u001b[0m     \u001b[0;32melse\u001b[0m\u001b[0;34m:\u001b[0m \u001b[0;31m# assume we've got a string variable\u001b[0m\u001b[0;34m\u001b[0m\u001b[0;34m\u001b[0m\u001b[0m\n\u001b[1;32m    111\u001b[0m         \u001b[0mexog_name\u001b[0m \u001b[0;34m=\u001b[0m \u001b[0midx\u001b[0m\u001b[0;34m\u001b[0m\u001b[0;34m\u001b[0m\u001b[0m\n\u001b[0;32m--> 112\u001b[0;31m         \u001b[0mexog_idx\u001b[0m \u001b[0;34m=\u001b[0m \u001b[0mmodel\u001b[0m\u001b[0;34m.\u001b[0m\u001b[0mexog_names\u001b[0m\u001b[0;34m.\u001b[0m\u001b[0mindex\u001b[0m\u001b[0;34m(\u001b[0m\u001b[0midx\u001b[0m\u001b[0;34m)\u001b[0m\u001b[0;34m\u001b[0m\u001b[0;34m\u001b[0m\u001b[0m\n\u001b[0m\u001b[1;32m    113\u001b[0m \u001b[0;34m\u001b[0m\u001b[0m\n\u001b[1;32m    114\u001b[0m     \u001b[0;32mreturn\u001b[0m \u001b[0mexog_name\u001b[0m\u001b[0;34m,\u001b[0m \u001b[0mexog_idx\u001b[0m\u001b[0;34m\u001b[0m\u001b[0;34m\u001b[0m\u001b[0m\n",
            "\u001b[0;31mValueError\u001b[0m: 'Price' is not in list"
          ]
        },
        {
          "output_type": "display_data",
          "data": {
            "text/plain": [
              "<Figure size 864x576 with 0 Axes>"
            ]
          },
          "metadata": {
            "tags": []
          }
        }
      ]
    },
    {
      "cell_type": "markdown",
      "metadata": {
        "id": "UCH3-kS0N3b7"
      },
      "source": [
        "### Recursive Least Square (RLS)\n",
        "\n",
        "Finally we apply Recursive Least Square (RLS) filter to investigate parameter instability."
      ]
    },
    {
      "cell_type": "code",
      "metadata": {
        "id": "HFWUnbAVN3b7"
      },
      "source": [
        "item['Year'] = pd.to_datetime(item['Year'], format=\"%Y\")"
      ],
      "execution_count": null,
      "outputs": []
    },
    {
      "cell_type": "code",
      "metadata": {
        "id": "h74LGC4BN3b7"
      },
      "source": [
        "item.head()"
      ],
      "execution_count": null,
      "outputs": []
    },
    {
      "cell_type": "code",
      "metadata": {
        "id": "CysyOvqlN3b7"
      },
      "source": [
        "from pandas.tseries.offsets import *\n",
        "beef['Date'] = beef.apply(lambda x:(x['Year'] + BQuarterBegin(x['Quarter'])), axis=1)"
      ],
      "execution_count": null,
      "outputs": []
    },
    {
      "cell_type": "code",
      "metadata": {
        "id": "BWkOYG6iN3b8"
      },
      "source": [
        "beef.drop(['Year', 'Quarter'], axis=1, inplace=True)"
      ],
      "execution_count": null,
      "outputs": []
    },
    {
      "cell_type": "code",
      "metadata": {
        "id": "9ZUv9_QDN3b8"
      },
      "source": [
        "beef.set_index('Date', inplace=True)"
      ],
      "execution_count": null,
      "outputs": []
    },
    {
      "cell_type": "code",
      "metadata": {
        "id": "KXVfmB2bN3b8"
      },
      "source": [
        "beef.head(10)"
      ],
      "execution_count": null,
      "outputs": []
    },
    {
      "cell_type": "code",
      "metadata": {
        "id": "iJtRRpQZN3b8"
      },
      "source": [
        "endog = beef['Quantity']\n",
        "\n",
        "# To the regressors in the dataset, we add a column of ones for an intercept\n",
        "exog = sm.add_constant(beef['Price'])"
      ],
      "execution_count": null,
      "outputs": []
    },
    {
      "cell_type": "markdown",
      "metadata": {
        "id": "v4aisp6zN3b8"
      },
      "source": [
        "### RLS estimation"
      ]
    },
    {
      "cell_type": "code",
      "metadata": {
        "id": "00hcSGUaN3b8"
      },
      "source": [
        "mod = sm.RecursiveLS(endog, exog)\n",
        "res = mod.fit()\n",
        "\n",
        "print(res.summary())"
      ],
      "execution_count": null,
      "outputs": []
    },
    {
      "cell_type": "markdown",
      "metadata": {
        "id": "QLmOrBovN3b9"
      },
      "source": [
        "The RLS model computes the regression parameters recursively, so there are as many estimates as there are datapoints, the summary table only presents the regression parameters estimated on the entire sample; these estimates are equivalent to OLS estimates."
      ]
    },
    {
      "cell_type": "markdown",
      "metadata": {
        "id": "TY-6R4SfN3b9"
      },
      "source": [
        "### RLS plots\n",
        "\n",
        "We can generate the recursively estimated coefficients plot on a given variable."
      ]
    },
    {
      "cell_type": "code",
      "metadata": {
        "id": "JsRLuig2N3b9"
      },
      "source": [
        "res.plot_recursive_coefficient(range(mod.k_exog), alpha=None, figsize=(10,6));"
      ],
      "execution_count": null,
      "outputs": []
    },
    {
      "cell_type": "markdown",
      "metadata": {
        "id": "pKBvArlbN3b9"
      },
      "source": [
        "For convenience, we visually check for parameter stability using the plot_cusum function."
      ]
    },
    {
      "cell_type": "code",
      "metadata": {
        "id": "iPYb5lghN3b-"
      },
      "source": [
        "fig = res.plot_cusum(figsize=(10,6));"
      ],
      "execution_count": null,
      "outputs": []
    },
    {
      "cell_type": "markdown",
      "metadata": {
        "id": "YS0hwYT9N3b-"
      },
      "source": [
        "In the plot above, the CUSUM statistic does not move outside of the 5% significance bands, so we fail to reject the null hypothesis of stable parameters at the 5% level."
      ]
    },
    {
      "cell_type": "code",
      "metadata": {
        "id": "6oaXeQ-iN3b-"
      },
      "source": [
        ""
      ],
      "execution_count": null,
      "outputs": []
    }
  ]
}